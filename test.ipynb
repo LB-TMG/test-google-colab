{
  "nbformat": 4,
  "nbformat_minor": 0,
  "metadata": {
    "colab": {
      "provenance": [],
      "authorship_tag": "ABX9TyPG3aCcxRw2wEFZSXKV6dah",
      "include_colab_link": true
    },
    "kernelspec": {
      "name": "python3",
      "display_name": "Python 3"
    },
    "language_info": {
      "name": "python"
    }
  },
  "cells": [
    {
      "cell_type": "markdown",
      "metadata": {
        "id": "view-in-github",
        "colab_type": "text"
      },
      "source": [
        "<a href=\"https://colab.research.google.com/github/LB-TMG/test-google-colab/blob/main/test.ipynb\" target=\"_parent\"><img src=\"https://colab.research.google.com/assets/colab-badge.svg\" alt=\"Open In Colab\"/></a>"
      ]
    },
    {
      "cell_type": "code",
      "execution_count": 2,
      "metadata": {
        "id": "_M91y-zv-P67"
      },
      "outputs": [],
      "source": [
        "import numpy as np\n",
        "import pandas as pd\n",
        "from scipy.sparse import csr_matrix\n",
        "from sklearn.neighbors import NearestNeighbors"
      ]
    },
    {
      "cell_type": "code",
      "source": [
        "import warnings\n",
        "warnings.filterwarnings(\"ignore\")\n",
        "\n",
        "books = pd.read_csv(\"/content/BX-Books.csv\", sep=';', encoding=\"latin-1\", on_bad_lines=\"skip\")\n",
        "users = pd.read_csv(\"/content/BX-Users.csv\", sep=';', encoding=\"latin-1\", on_bad_lines=\"skip\")\n",
        "ratings = pd.read_csv(\"/content/BX-Book-Ratings.csv\", sep=';', encoding=\"latin-1\", on_bad_lines=\"skip\")\n",
        "\n",
        "books = books[['ISBN', 'Book-Title', 'Book-Author', 'Year-Of-Publication', 'Publisher']]\n",
        "books.rename(columns = {'Book-Title':'title', 'Book-Author':'author', 'Year-Of-Publication':'year', 'Publisher':'publisher'}, inplace=True)\n",
        "users.rename(columns = {'User-ID':'user_id', 'Location':'location', 'Age':'age'}, inplace=True)\n",
        "ratings.rename(columns = {'User-ID':'user_id', 'Book-Rating':'rating'}, inplace=True)\n"
      ],
      "metadata": {
        "id": "5Wz0XwNiCM0W"
      },
      "execution_count": 14,
      "outputs": []
    },
    {
      "cell_type": "markdown",
      "source": [
        "# **Data Preparation**"
      ],
      "metadata": {
        "id": "tTEWTX0FIygy"
      }
    },
    {
      "cell_type": "code",
      "source": [
        "x = ratings['user_id'].value_counts() > 200\n",
        "y = x[x].index  #user_ids\n",
        "print(y.shape)\n",
        "ratings = ratings[ratings['user_id'].isin(y)]\n",
        "\n",
        "rating_with_books = ratings.merge(books, on='ISBN')\n",
        "rating_with_books.head()\n",
        "\n",
        "rating_with_books.to_csv(\"new_book_dataset.csv\")"
      ],
      "metadata": {
        "colab": {
          "base_uri": "https://localhost:8080/"
        },
        "id": "-9SAHYKtCNLl",
        "outputId": "a2b8440e-85dc-4192-a0cf-0536df3b3da9"
      },
      "execution_count": 15,
      "outputs": [
        {
          "output_type": "stream",
          "name": "stdout",
          "text": [
            "(1192,)\n"
          ]
        }
      ]
    },
    {
      "cell_type": "code",
      "source": [
        "number_rating = rating_with_books.groupby('title')['rating'].count().reset_index()\n",
        "number_rating.rename(columns= {'rating':'number_of_ratings'}, inplace=True)\n",
        "final_rating = rating_with_books.merge(number_rating, on='title')\n",
        "final_rating.shape\n",
        "final_rating = final_rating[final_rating['number_of_ratings'] >= 50]\n",
        "final_rating.drop_duplicates(['user_id','title'], inplace=True)\n",
        "\n",
        "book_pivot = final_rating.pivot_table(columns='user_id', index='title', values=\"rating\")\n",
        "book_pivot.fillna(0, inplace=True)\n",
        "\n",
        "book_pivot.to_csv(\"book_dataset.csv\")"
      ],
      "metadata": {
        "id": "iTHP0iMQHVyW"
      },
      "execution_count": 17,
      "outputs": []
    },
    {
      "cell_type": "markdown",
      "source": [
        "# **Forming the model**"
      ],
      "metadata": {
        "id": "zu_xkkvDI8y0"
      }
    },
    {
      "cell_type": "code",
      "source": [
        "bp = pd.read_csv('/content/book_dataset.csv')\n",
        "#This uses an unsupervised model\n",
        "book_sparse = csr_matrix(book_pivot)\n",
        "\n",
        "model = NearestNeighbors(algorithm='brute')\n",
        "model.fit(book_sparse)"
      ],
      "metadata": {
        "colab": {
          "base_uri": "https://localhost:8080/",
          "height": 75
        },
        "id": "tKWWlm1wCNXu",
        "outputId": "73da27bf-b46f-43c8-fd5f-ec1e3db32ae3"
      },
      "execution_count": 18,
      "outputs": [
        {
          "output_type": "execute_result",
          "data": {
            "text/plain": [
              "NearestNeighbors(algorithm='brute')"
            ],
            "text/html": [
              "<style>#sk-container-id-1 {color: black;}#sk-container-id-1 pre{padding: 0;}#sk-container-id-1 div.sk-toggleable {background-color: white;}#sk-container-id-1 label.sk-toggleable__label {cursor: pointer;display: block;width: 100%;margin-bottom: 0;padding: 0.3em;box-sizing: border-box;text-align: center;}#sk-container-id-1 label.sk-toggleable__label-arrow:before {content: \"▸\";float: left;margin-right: 0.25em;color: #696969;}#sk-container-id-1 label.sk-toggleable__label-arrow:hover:before {color: black;}#sk-container-id-1 div.sk-estimator:hover label.sk-toggleable__label-arrow:before {color: black;}#sk-container-id-1 div.sk-toggleable__content {max-height: 0;max-width: 0;overflow: hidden;text-align: left;background-color: #f0f8ff;}#sk-container-id-1 div.sk-toggleable__content pre {margin: 0.2em;color: black;border-radius: 0.25em;background-color: #f0f8ff;}#sk-container-id-1 input.sk-toggleable__control:checked~div.sk-toggleable__content {max-height: 200px;max-width: 100%;overflow: auto;}#sk-container-id-1 input.sk-toggleable__control:checked~label.sk-toggleable__label-arrow:before {content: \"▾\";}#sk-container-id-1 div.sk-estimator input.sk-toggleable__control:checked~label.sk-toggleable__label {background-color: #d4ebff;}#sk-container-id-1 div.sk-label input.sk-toggleable__control:checked~label.sk-toggleable__label {background-color: #d4ebff;}#sk-container-id-1 input.sk-hidden--visually {border: 0;clip: rect(1px 1px 1px 1px);clip: rect(1px, 1px, 1px, 1px);height: 1px;margin: -1px;overflow: hidden;padding: 0;position: absolute;width: 1px;}#sk-container-id-1 div.sk-estimator {font-family: monospace;background-color: #f0f8ff;border: 1px dotted black;border-radius: 0.25em;box-sizing: border-box;margin-bottom: 0.5em;}#sk-container-id-1 div.sk-estimator:hover {background-color: #d4ebff;}#sk-container-id-1 div.sk-parallel-item::after {content: \"\";width: 100%;border-bottom: 1px solid gray;flex-grow: 1;}#sk-container-id-1 div.sk-label:hover label.sk-toggleable__label {background-color: #d4ebff;}#sk-container-id-1 div.sk-serial::before {content: \"\";position: absolute;border-left: 1px solid gray;box-sizing: border-box;top: 0;bottom: 0;left: 50%;z-index: 0;}#sk-container-id-1 div.sk-serial {display: flex;flex-direction: column;align-items: center;background-color: white;padding-right: 0.2em;padding-left: 0.2em;position: relative;}#sk-container-id-1 div.sk-item {position: relative;z-index: 1;}#sk-container-id-1 div.sk-parallel {display: flex;align-items: stretch;justify-content: center;background-color: white;position: relative;}#sk-container-id-1 div.sk-item::before, #sk-container-id-1 div.sk-parallel-item::before {content: \"\";position: absolute;border-left: 1px solid gray;box-sizing: border-box;top: 0;bottom: 0;left: 50%;z-index: -1;}#sk-container-id-1 div.sk-parallel-item {display: flex;flex-direction: column;z-index: 1;position: relative;background-color: white;}#sk-container-id-1 div.sk-parallel-item:first-child::after {align-self: flex-end;width: 50%;}#sk-container-id-1 div.sk-parallel-item:last-child::after {align-self: flex-start;width: 50%;}#sk-container-id-1 div.sk-parallel-item:only-child::after {width: 0;}#sk-container-id-1 div.sk-dashed-wrapped {border: 1px dashed gray;margin: 0 0.4em 0.5em 0.4em;box-sizing: border-box;padding-bottom: 0.4em;background-color: white;}#sk-container-id-1 div.sk-label label {font-family: monospace;font-weight: bold;display: inline-block;line-height: 1.2em;}#sk-container-id-1 div.sk-label-container {text-align: center;}#sk-container-id-1 div.sk-container {/* jupyter's `normalize.less` sets `[hidden] { display: none; }` but bootstrap.min.css set `[hidden] { display: none !important; }` so we also need the `!important` here to be able to override the default hidden behavior on the sphinx rendered scikit-learn.org. See: https://github.com/scikit-learn/scikit-learn/issues/21755 */display: inline-block !important;position: relative;}#sk-container-id-1 div.sk-text-repr-fallback {display: none;}</style><div id=\"sk-container-id-1\" class=\"sk-top-container\"><div class=\"sk-text-repr-fallback\"><pre>NearestNeighbors(algorithm=&#x27;brute&#x27;)</pre><b>In a Jupyter environment, please rerun this cell to show the HTML representation or trust the notebook. <br />On GitHub, the HTML representation is unable to render, please try loading this page with nbviewer.org.</b></div><div class=\"sk-container\" hidden><div class=\"sk-item\"><div class=\"sk-estimator sk-toggleable\"><input class=\"sk-toggleable__control sk-hidden--visually\" id=\"sk-estimator-id-1\" type=\"checkbox\" checked><label for=\"sk-estimator-id-1\" class=\"sk-toggleable__label sk-toggleable__label-arrow\">NearestNeighbors</label><div class=\"sk-toggleable__content\"><pre>NearestNeighbors(algorithm=&#x27;brute&#x27;)</pre></div></div></div></div></div>"
            ]
          },
          "metadata": {},
          "execution_count": 18
        }
      ]
    },
    {
      "cell_type": "code",
      "source": [
        "#book_index = book_pivot.index[i]\n",
        "def get_book_title(book_title):\n",
        "    book_title = int(bp[bp['title']==book_title].index.values)\n",
        "    return book_title\n",
        "\n",
        "get_book_title('A Case of Need')"
      ],
      "metadata": {
        "colab": {
          "base_uri": "https://localhost:8080/"
        },
        "id": "sXxhyWPqCNlV",
        "outputId": "aa3a062b-324f-4807-d9d5-910cc328ed51"
      },
      "execution_count": 20,
      "outputs": [
        {
          "output_type": "execute_result",
          "data": {
            "text/plain": [
              "14"
            ]
          },
          "metadata": {},
          "execution_count": 20
        }
      ]
    },
    {
      "cell_type": "markdown",
      "source": [
        "# **Recommendation system**"
      ],
      "metadata": {
        "id": "YOZosj_8JFXS"
      }
    },
    {
      "cell_type": "code",
      "source": [
        "def recommend_books(book_title):\n",
        "    distances, suggestions = model.kneighbors(book_pivot.iloc[int(bp[bp['title']==book_title].index.values), :].values.reshape(1, -1))\n",
        "    for i in range(len(suggestions)):\n",
        "        return book_pivot.index[suggestions[i]]"
      ],
      "metadata": {
        "id": "wRlBjFOhCN3d"
      },
      "execution_count": 21,
      "outputs": []
    },
    {
      "cell_type": "code",
      "source": [
        "recommend_books('Life of Pi')"
      ],
      "metadata": {
        "colab": {
          "base_uri": "https://localhost:8080/"
        },
        "id": "FGT8P_x_IA3u",
        "outputId": "ed664c64-20d4-4936-8e23-42a54807793e"
      },
      "execution_count": 22,
      "outputs": [
        {
          "output_type": "execute_result",
          "data": {
            "text/plain": [
              "Index(['Life of Pi', 'Surfacing',\n",
              "       'Galileo's Daughter: A Historical Memoir of Science, Faith, and Love',\n",
              "       'Dear Emily', 'The Great Baby Caper'],\n",
              "      dtype='object', name='title')"
            ]
          },
          "metadata": {},
          "execution_count": 22
        }
      ]
    }
  ]
}